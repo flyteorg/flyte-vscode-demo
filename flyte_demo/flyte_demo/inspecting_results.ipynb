{
 "cells": [
  {
   "cell_type": "markdown",
   "id": "de7dabb0",
   "metadata": {},
   "source": [
    "# Inspecting Results\n",
    "\n",
    "You can interact with a Flyte Cluster using the `FlyteRemote` object, which\n",
    "is a client that exposes several methods for you to programmatically:\n",
    "\n",
    "1. Register tasks and workflows\n",
    "2. Execute tasks and workflows\n",
    "3. Fetch and inspect task and workflow outputs\n",
    "\n",
    "In this notebook, we'll grab the model that we trained in the previous step."
   ]
  },
  {
   "cell_type": "markdown",
   "id": "24e9c01e",
   "metadata": {},
   "source": [
    "## Initializing `FlyteRemote`\n",
    "\n",
    "We first initialize a `FlyteRemote` object with the configuration needed\n",
    "to access artifacts from the Flyte sandbox s3 blob store."
   ]
  },
  {
   "cell_type": "code",
   "execution_count": 1,
   "id": "0d5d843e",
   "metadata": {},
   "outputs": [],
   "source": [
    "from flytekit.remote import FlyteRemote\n",
    "from flytekit.configuration import Config\n",
    "\n",
    "\n",
    "remote = FlyteRemote(\n",
    "    config=Config.auto(),\n",
    "    default_project=\"flytesnacks\",\n",
    "    default_domain=\"development\",\n",
    ")"
   ]
  },
  {
   "cell_type": "markdown",
   "id": "59d93ad3",
   "metadata": {},
   "source": [
    "## Fetching a Workflow Execution\n",
    "\n",
    "To fetch the workflow execution artifacts, replace the `execution_id = <REPLACE_ME>`\n",
    "variable with the unique execution id created by Flyte Admin.\n",
    "\n",
    "For example, after running the `pyflyte run` command,\n",
    "the execution id can be found in the URL:\n",
    "\n",
    "```\n",
    "Go to http://localhost:30080/console/projects/flytesnacks/domains/development/executions/<EXECUTION_ID> to see execution in the console.\n",
    "```"
   ]
  },
  {
   "cell_type": "code",
   "execution_count": 2,
   "id": "77cf6835",
   "metadata": {},
   "outputs": [
    {
     "data": {
      "text/plain": [
       "KeysView(Partially converted to native values, call get(key, <type_hint>) to convert rest...\n",
       "{\n",
       "  o0: \n",
       "      scalar {\n",
       "        blob {\n",
       "          metadata {\n",
       "            type {\n",
       "              format: \"PythonPickle\"\n",
       "            }\n",
       "          }\n",
       "          uri: \"s3://my-s3-bucket/test/rn/f6c85dfee56814bfdb79-n2-0/c049b0571853df029db0c35bb703dab7/1b5296874274f3bc9ef2c31b606ccb8a\"\n",
       "        }\n",
       "      }\n",
       "\n",
       "})"
      ]
     },
     "execution_count": 2,
     "metadata": {},
     "output_type": "execute_result"
    }
   ],
   "source": [
    "execution_id = \"f6c85dfee56814bfdb79\"\n",
    "execution = remote.fetch_execution(name=execution_id)\n",
    "remote.sync(execution, sync_nodes=True)\n",
    "\n",
    "# get execution output keys\n",
    "execution.outputs.keys()"
   ]
  },
  {
   "cell_type": "markdown",
   "id": "368c8703",
   "metadata": {},
   "source": [
    "As you can see, `execution.outputs` is a dict-like object with a single\n",
    "key `\"o0\"`, which we can use to access the sklearn model object we just\n",
    "trained."
   ]
  },
  {
   "cell_type": "code",
   "execution_count": 4,
   "id": "748092fd",
   "metadata": {
    "scrolled": true
   },
   "outputs": [
    {
     "data": {
      "text/html": [
       "<style>#sk-container-id-2 {color: black;background-color: white;}#sk-container-id-2 pre{padding: 0;}#sk-container-id-2 div.sk-toggleable {background-color: white;}#sk-container-id-2 label.sk-toggleable__label {cursor: pointer;display: block;width: 100%;margin-bottom: 0;padding: 0.3em;box-sizing: border-box;text-align: center;}#sk-container-id-2 label.sk-toggleable__label-arrow:before {content: \"▸\";float: left;margin-right: 0.25em;color: #696969;}#sk-container-id-2 label.sk-toggleable__label-arrow:hover:before {color: black;}#sk-container-id-2 div.sk-estimator:hover label.sk-toggleable__label-arrow:before {color: black;}#sk-container-id-2 div.sk-toggleable__content {max-height: 0;max-width: 0;overflow: hidden;text-align: left;background-color: #f0f8ff;}#sk-container-id-2 div.sk-toggleable__content pre {margin: 0.2em;color: black;border-radius: 0.25em;background-color: #f0f8ff;}#sk-container-id-2 input.sk-toggleable__control:checked~div.sk-toggleable__content {max-height: 200px;max-width: 100%;overflow: auto;}#sk-container-id-2 input.sk-toggleable__control:checked~label.sk-toggleable__label-arrow:before {content: \"▾\";}#sk-container-id-2 div.sk-estimator input.sk-toggleable__control:checked~label.sk-toggleable__label {background-color: #d4ebff;}#sk-container-id-2 div.sk-label input.sk-toggleable__control:checked~label.sk-toggleable__label {background-color: #d4ebff;}#sk-container-id-2 input.sk-hidden--visually {border: 0;clip: rect(1px 1px 1px 1px);clip: rect(1px, 1px, 1px, 1px);height: 1px;margin: -1px;overflow: hidden;padding: 0;position: absolute;width: 1px;}#sk-container-id-2 div.sk-estimator {font-family: monospace;background-color: #f0f8ff;border: 1px dotted black;border-radius: 0.25em;box-sizing: border-box;margin-bottom: 0.5em;}#sk-container-id-2 div.sk-estimator:hover {background-color: #d4ebff;}#sk-container-id-2 div.sk-parallel-item::after {content: \"\";width: 100%;border-bottom: 1px solid gray;flex-grow: 1;}#sk-container-id-2 div.sk-label:hover label.sk-toggleable__label {background-color: #d4ebff;}#sk-container-id-2 div.sk-serial::before {content: \"\";position: absolute;border-left: 1px solid gray;box-sizing: border-box;top: 0;bottom: 0;left: 50%;z-index: 0;}#sk-container-id-2 div.sk-serial {display: flex;flex-direction: column;align-items: center;background-color: white;padding-right: 0.2em;padding-left: 0.2em;position: relative;}#sk-container-id-2 div.sk-item {position: relative;z-index: 1;}#sk-container-id-2 div.sk-parallel {display: flex;align-items: stretch;justify-content: center;background-color: white;position: relative;}#sk-container-id-2 div.sk-item::before, #sk-container-id-2 div.sk-parallel-item::before {content: \"\";position: absolute;border-left: 1px solid gray;box-sizing: border-box;top: 0;bottom: 0;left: 50%;z-index: -1;}#sk-container-id-2 div.sk-parallel-item {display: flex;flex-direction: column;z-index: 1;position: relative;background-color: white;}#sk-container-id-2 div.sk-parallel-item:first-child::after {align-self: flex-end;width: 50%;}#sk-container-id-2 div.sk-parallel-item:last-child::after {align-self: flex-start;width: 50%;}#sk-container-id-2 div.sk-parallel-item:only-child::after {width: 0;}#sk-container-id-2 div.sk-dashed-wrapped {border: 1px dashed gray;margin: 0 0.4em 0.5em 0.4em;box-sizing: border-box;padding-bottom: 0.4em;background-color: white;}#sk-container-id-2 div.sk-label label {font-family: monospace;font-weight: bold;display: inline-block;line-height: 1.2em;}#sk-container-id-2 div.sk-label-container {text-align: center;}#sk-container-id-2 div.sk-container {/* jupyter's `normalize.less` sets `[hidden] { display: none; }` but bootstrap.min.css set `[hidden] { display: none !important; }` so we also need the `!important` here to be able to override the default hidden behavior on the sphinx rendered scikit-learn.org. See: https://github.com/scikit-learn/scikit-learn/issues/21755 */display: inline-block !important;position: relative;}#sk-container-id-2 div.sk-text-repr-fallback {display: none;}</style><div id=\"sk-container-id-2\" class=\"sk-top-container\"><div class=\"sk-text-repr-fallback\"><pre>LogisticRegression(max_iter=1000)</pre><b>In a Jupyter environment, please rerun this cell to show the HTML representation or trust the notebook. <br />On GitHub, the HTML representation is unable to render, please try loading this page with nbviewer.org.</b></div><div class=\"sk-container\" hidden><div class=\"sk-item\"><div class=\"sk-estimator sk-toggleable\"><input class=\"sk-toggleable__control sk-hidden--visually\" id=\"sk-estimator-id-2\" type=\"checkbox\" checked><label for=\"sk-estimator-id-2\" class=\"sk-toggleable__label sk-toggleable__label-arrow\">LogisticRegression</label><div class=\"sk-toggleable__content\"><pre>LogisticRegression(max_iter=1000)</pre></div></div></div></div></div>"
      ],
      "text/plain": [
       "LogisticRegression(max_iter=1000)"
      ]
     },
     "execution_count": 4,
     "metadata": {},
     "output_type": "execute_result"
    }
   ],
   "source": [
    "model = execution.outputs[\"o0\"]\n",
    "model"
   ]
  },
  {
   "cell_type": "markdown",
   "id": "5a6877f2",
   "metadata": {},
   "source": [
    "## Fetching Intermediate Results\n",
    "\n",
    "You can also fetch intermediate results of the tasks in our workflow. For example, if we want to visualize the difference in distribution of class targets between our raw processed data, we can do the following:"
   ]
  },
  {
   "cell_type": "code",
   "execution_count": 5,
   "id": "de994904",
   "metadata": {},
   "outputs": [
    {
     "data": {
      "text/plain": [
       "dict_keys(['end-node', 'n0', 'n1', 'n2', 'start-node'])"
      ]
     },
     "execution_count": 5,
     "metadata": {},
     "output_type": "execute_result"
    }
   ],
   "source": [
    "execution.node_executions.keys()"
   ]
  },
  {
   "cell_type": "markdown",
   "id": "7d7b29a5",
   "metadata": {},
   "source": [
    "As you can see, Flyte has an implicit `start-node` and `end-node` that marks\n",
    "the beginning and end of a workflow, with `n*` nodes to represent tasks in\n",
    "between. We know that the `get_data` task was the `0th` node and the `process_data`\n",
    "task was the `1st` node in our workflow:"
   ]
  },
  {
   "cell_type": "code",
   "execution_count": 15,
   "id": "de64387c",
   "metadata": {
    "scrolled": false
   },
   "outputs": [],
   "source": [
    "import os\n",
    "import pandas as pd\n",
    "\n",
    "# get raw data\n",
    "raw_data = execution.node_executions[\"n0\"].outputs[\"o0\"]\n",
    "raw_data = raw_data.open(pd.DataFrame).all()\n",
    "\n",
    "# get processed data\n",
    "processed_data = execution.node_executions[\"n1\"].outputs[\"o0\"]\n",
    "processed_data = processed_data.open(pd.DataFrame).all()"
   ]
  },
  {
   "cell_type": "markdown",
   "id": "9e6ab3b5",
   "metadata": {},
   "source": [
    "Then, we simply plot the classes to see that we successfully aggregated\n",
    "class `1` and `2` to a single class of `1`."
   ]
  },
  {
   "cell_type": "code",
   "execution_count": 24,
   "id": "67774ab6",
   "metadata": {},
   "outputs": [
    {
     "data": {
      "text/plain": [
       "<AxesSubplot: title={'center': 'processed data'}>"
      ]
     },
     "execution_count": 24,
     "metadata": {},
     "output_type": "execute_result"
    },
    {
     "data": {
      "image/png": "[encoded data removed]",
      "text/plain": [
       "<Figure size 640x480 with 2 Axes>"
      ]
     },
     "metadata": {},
     "output_type": "display_data"
    }
   ],
   "source": [
    "import matplotlib.pyplot as plt\n",
    "\n",
    "\n",
    "fig, axes = plt.subplots(1, 2)\n",
    "raw_data[\"target\"].value_counts().plot.barh(ax=axes[0], title=\"raw data\")\n",
    "processed_data[\"target\"].value_counts().plot.barh(ax=axes[1], title=\"processed data\")"
   ]
  }
 ],
 "metadata": {
  "kernelspec": {
   "display_name": "Python 3 (ipykernel)",
   "language": "python",
   "name": "python3"
  },
  "language_info": {
   "codemirror_mode": {
    "name": "ipython",
    "version": 3
   },
   "file_extension": ".py",
   "mimetype": "text/x-python",
   "name": "python",
   "nbconvert_exporter": "python",
   "pygments_lexer": "ipython3",
   "version": "3.9.13"
  }
 },
 "nbformat": 4,
 "nbformat_minor": 5
}
